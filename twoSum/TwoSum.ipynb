{
  "nbformat": 4,
  "nbformat_minor": 0,
  "metadata": {
    "colab": {
      "provenance": []
    },
    "kernelspec": {
      "name": "python3",
      "display_name": "Python 3"
    },
    "language_info": {
      "name": "python"
    }
  },
  "cells": [
    {
      "cell_type": "markdown",
      "source": [
        "Let's assume we have an array and we want to find which indexes are the sum of target."
      ],
      "metadata": {
        "id": "q4dN496qyZKh"
      }
    },
    {
      "cell_type": "code",
      "source": [
        "def twoSum(nums,target):\n",
        "  for i in range(len(nums)):\n",
        "    deger=target-nums[i]\n",
        "    for x in range(i+1,len(nums)):\n",
        "      if deger == nums[x]:\n",
        "        return [i,x]"
      ],
      "metadata": {
        "id": "n9g6n6wEQzch"
      },
      "execution_count": 2,
      "outputs": []
    },
    {
      "cell_type": "code",
      "source": [
        "twoSum([1,3,6,13,2,4],19)"
      ],
      "metadata": {
        "colab": {
          "base_uri": "https://localhost:8080/"
        },
        "id": "rPybSHNULpkw",
        "outputId": "d19116de-0b7f-42aa-804b-ed7be017a6b8"
      },
      "execution_count": 3,
      "outputs": [
        {
          "output_type": "execute_result",
          "data": {
            "text/plain": [
              "[2, 3]"
            ]
          },
          "metadata": {},
          "execution_count": 3
        }
      ]
    },
    {
      "cell_type": "code",
      "source": [
        "twoSum([1,3,6,13,2,4],9)"
      ],
      "metadata": {
        "colab": {
          "base_uri": "https://localhost:8080/"
        },
        "id": "5sRngNWWyMaW",
        "outputId": "8b237289-bbf4-4a30-a937-8946b30f8b84"
      },
      "execution_count": 4,
      "outputs": [
        {
          "output_type": "execute_result",
          "data": {
            "text/plain": [
              "[1, 2]"
            ]
          },
          "metadata": {},
          "execution_count": 4
        }
      ]
    }
  ]
}